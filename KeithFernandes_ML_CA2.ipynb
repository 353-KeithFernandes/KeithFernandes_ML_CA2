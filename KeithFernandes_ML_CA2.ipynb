{
 "cells": [
  {
   "cell_type": "markdown",
   "id": "e1a54cbe-0afa-4b73-80bd-9dce14d2bb72",
   "metadata": {},
   "source": []
  },
  {
   "cell_type": "markdown",
   "id": "234d643e-d657-4db8-8aab-874497f59ec5",
   "metadata": {},
   "source": [
    "## Keith Cavalcante Fernandes 2020353\n",
    "Module Title(s): Machine Learning for AI <br>\n",
    "Assignment Type: Individual           Weighting(s): 50% <br>\n",
    "Assignment Title: ML_CA2              Lecturer(s): David McQuaid\n"
   ]
  },
  {
   "cell_type": "markdown",
   "id": "900ee146-675a-4450-9227-113073aec0eb",
   "metadata": {},
   "source": [
    "Github Link: https://github.com/353-KeithFernandes/KeithFernandes_ML_CA2.git "
   ]
  },
  {
   "cell_type": "code",
   "execution_count": null,
   "id": "4af69a8f-e014-491d-b002-1fd0c38b4ea6",
   "metadata": {},
   "outputs": [],
   "source": []
  }
 ],
 "metadata": {
  "kernelspec": {
   "display_name": "Python 3 (ipykernel)",
   "language": "python",
   "name": "python3"
  },
  "language_info": {
   "codemirror_mode": {
    "name": "ipython",
    "version": 3
   },
   "file_extension": ".py",
   "mimetype": "text/x-python",
   "name": "python",
   "nbconvert_exporter": "python",
   "pygments_lexer": "ipython3",
   "version": "3.9.7"
  }
 },
 "nbformat": 4,
 "nbformat_minor": 5
}
