{
 "cells": [
  {
   "cell_type": "markdown",
   "id": "e1a54cbe-0afa-4b73-80bd-9dce14d2bb72",
   "metadata": {},
   "source": []
  },
  {
   "cell_type": "markdown",
   "id": "234d643e-d657-4db8-8aab-874497f59ec5",
   "metadata": {},
   "source": [
    "## Keith Cavalcante Fernandes 2020353\n",
    "Module Title(s): Machine Learning for AI <br>\n",
    "Assignment Type: Individual           Weighting(s): 50% <br>\n",
    "Assignment Title: ML_CA2              Lecturer(s): David McQuaid\n"
   ]
  },
  {
   "cell_type": "markdown",
   "id": "900ee146-675a-4450-9227-113073aec0eb",
   "metadata": {},
   "source": [
    "Github Link: https://github.com/353-KeithFernandes/KeithFernandes_ML_CA2.git "
   ]
  },
  {
   "cell_type": "markdown",
   "id": "a46db134-4dc6-4fbd-a6be-f9a95e9fe57b",
   "metadata": {},
   "source": [
    "### Sentiment Analysis on Bank Records"
   ]
  },
  {
   "cell_type": "markdown",
   "id": "f1fa2576-7911-458d-9cad-2a343bb70857",
   "metadata": {},
   "source": [
    "*Importing All Required Packages*"
   ]
  },
  {
   "cell_type": "code",
   "execution_count": 1,
   "id": "d1938e18-193d-49d8-a955-6ee7a2675980",
   "metadata": {},
   "outputs": [
    {
     "name": "stderr",
     "output_type": "stream",
     "text": [
      "[nltk_data] Downloading package stopwords to\n",
      "[nltk_data]     C:\\Users\\kcfke\\AppData\\Roaming\\nltk_data...\n",
      "[nltk_data]   Package stopwords is already up-to-date!\n"
     ]
    }
   ],
   "source": [
    "import pandas as pd\n",
    "import numpy as np\n",
    "import seaborn as sns\n",
    "import re\n",
    "import string\n",
    "from string import punctuation\n",
    "import nltk\n",
    "from nltk.corpus import stopwords\n",
    "nltk.download('stopwords')\n",
    "\n",
    "\n",
    "import matplotlib.pyplot as plt\n",
    "from sklearn.model_selection import train_test_split\n",
    "from sklearn.feature_extraction.text import CountVectorizer\n",
    "from sklearn.feature_extraction.text import TfidfTransformer\n",
    "\n",
    "import tensorflow as tf\n",
    "from tensorflow.keras.models import Sequential\n",
    "from tensorflow.keras.layers import Dense, Activation, Dropout\n",
    "from tensorflow.keras.callbacks import EarlyStopping"
   ]
  },
  {
   "cell_type": "markdown",
   "id": "92f56ad6-11dc-4f19-8fc4-90ea43e70b72",
   "metadata": {},
   "source": [
    "**Reading Data**"
   ]
  },
  {
   "cell_type": "markdown",
   "id": "0979f4d3-ce2f-40d5-ad69-5e273dc09991",
   "metadata": {},
   "source": [
    "https://www.kaggle.com/datasets/niramay/-coffeemakerclassification"
   ]
  },
  {
   "cell_type": "markdown",
   "id": "4e07de83-f398-4811-82a3-039b175cdb13",
   "metadata": {},
   "source": [
    "*Loading & Printing Head Dataset* "
   ]
  },
  {
   "cell_type": "code",
   "execution_count": 2,
   "id": "3fdb3ba1-ebe5-427b-814e-99996c68715c",
   "metadata": {},
   "outputs": [
    {
     "data": {
      "text/html": [
       "<div>\n",
       "<style scoped>\n",
       "    .dataframe tbody tr th:only-of-type {\n",
       "        vertical-align: middle;\n",
       "    }\n",
       "\n",
       "    .dataframe tbody tr th {\n",
       "        vertical-align: top;\n",
       "    }\n",
       "\n",
       "    .dataframe thead th {\n",
       "        text-align: right;\n",
       "    }\n",
       "</style>\n",
       "<table border=\"1\" class=\"dataframe\">\n",
       "  <thead>\n",
       "    <tr style=\"text-align: right;\">\n",
       "      <th></th>\n",
       "      <th>review_date</th>\n",
       "      <th>handle</th>\n",
       "      <th>rating</th>\n",
       "      <th>helpfulness_rating</th>\n",
       "      <th>review</th>\n",
       "    </tr>\n",
       "  </thead>\n",
       "  <tbody>\n",
       "    <tr>\n",
       "      <th>0</th>\n",
       "      <td>April 14, 2018</td>\n",
       "      <td>The Dolphin</td>\n",
       "      <td>2.0</td>\n",
       "      <td>513</td>\n",
       "      <td>Delightful coffee maker if you’re only looking...</td>\n",
       "    </tr>\n",
       "    <tr>\n",
       "      <th>1</th>\n",
       "      <td>February 7, 2019</td>\n",
       "      <td>Karen Kaffenberger</td>\n",
       "      <td>1.0</td>\n",
       "      <td>122</td>\n",
       "      <td>UPDATE: Bought this 10-21-18 and I finally ret...</td>\n",
       "    </tr>\n",
       "    <tr>\n",
       "      <th>2</th>\n",
       "      <td>December 23, 2017</td>\n",
       "      <td>C1C3C11</td>\n",
       "      <td>4.0</td>\n",
       "      <td>185</td>\n",
       "      <td>The big reason I ordered this was because I wa...</td>\n",
       "    </tr>\n",
       "    <tr>\n",
       "      <th>3</th>\n",
       "      <td>November 26, 2016</td>\n",
       "      <td>Paul Roberts</td>\n",
       "      <td>5.0</td>\n",
       "      <td>224</td>\n",
       "      <td>I've owned several of their older brewstation ...</td>\n",
       "    </tr>\n",
       "    <tr>\n",
       "      <th>4</th>\n",
       "      <td>November 28, 2017</td>\n",
       "      <td>JennyD</td>\n",
       "      <td>3.0</td>\n",
       "      <td>116</td>\n",
       "      <td>I agonized over which coffee maker to purchase...</td>\n",
       "    </tr>\n",
       "  </tbody>\n",
       "</table>\n",
       "</div>"
      ],
      "text/plain": [
       "         review_date              handle  rating helpfulness_rating  \\\n",
       "0     April 14, 2018         The Dolphin     2.0                513   \n",
       "1   February 7, 2019  Karen Kaffenberger     1.0                122   \n",
       "2  December 23, 2017             C1C3C11     4.0                185   \n",
       "3  November 26, 2016        Paul Roberts     5.0                224   \n",
       "4  November 28, 2017              JennyD     3.0                116   \n",
       "\n",
       "                                              review  \n",
       "0  Delightful coffee maker if you’re only looking...  \n",
       "1  UPDATE: Bought this 10-21-18 and I finally ret...  \n",
       "2  The big reason I ordered this was because I wa...  \n",
       "3  I've owned several of their older brewstation ...  \n",
       "4  I agonized over which coffee maker to purchase...  "
      ]
     },
     "execution_count": 2,
     "metadata": {},
     "output_type": "execute_result"
    }
   ],
   "source": [
    "df = pd.read_csv('coffee_maker.csv')\n",
    "df.head()"
   ]
  },
  {
   "cell_type": "markdown",
   "id": "913d673d-8f77-49e3-b952-178389f584ab",
   "metadata": {},
   "source": [
    "*Adding a separate column for Year*"
   ]
  },
  {
   "cell_type": "code",
   "execution_count": 3,
   "id": "80b2ea69-2313-463d-9cd7-87edfa6b9ba8",
   "metadata": {},
   "outputs": [
    {
     "name": "stdout",
     "output_type": "stream",
     "text": [
      "  review_date              handle  rating helpfulness_rating  \\\n",
      "0  2018-04-14         The Dolphin     2.0                513   \n",
      "1  2019-02-07  Karen Kaffenberger     1.0                122   \n",
      "2  2017-12-23             C1C3C11     4.0                185   \n",
      "3  2016-11-26        Paul Roberts     5.0                224   \n",
      "4  2017-11-28              JennyD     3.0                116   \n",
      "\n",
      "                                              review  year  \n",
      "0  Delightful coffee maker if you’re only looking...  2018  \n",
      "1  UPDATE: Bought this 10-21-18 and I finally ret...  2019  \n",
      "2  The big reason I ordered this was because I wa...  2017  \n",
      "3  I've owned several of their older brewstation ...  2016  \n",
      "4  I agonized over which coffee maker to purchase...  2017  \n"
     ]
    }
   ],
   "source": [
    "df['review_date'] = pd.to_datetime(df['review_date'])\n",
    "df['year'] = df['review_date'].dt.year\n",
    "print(df.head())"
   ]
  },
  {
   "cell_type": "code",
   "execution_count": 4,
   "id": "06e50758-beef-4c3d-80c0-c8206b6be2a0",
   "metadata": {},
   "outputs": [
    {
     "name": "stdout",
     "output_type": "stream",
     "text": [
      "                      review_date       rating         year\n",
      "count                        5000  5000.000000  5000.000000\n",
      "mean   2018-07-29 12:19:17.760000     3.509400  2018.112200\n",
      "min           2010-02-04 00:00:00     1.000000  2010.000000\n",
      "25%           2016-11-17 00:00:00     2.000000  2016.000000\n",
      "50%           2019-04-06 00:00:00     4.000000  2019.000000\n",
      "75%           2020-06-06 06:00:00     5.000000  2020.000000\n",
      "max           2021-07-18 00:00:00     5.000000  2021.000000\n",
      "std                           NaN     1.638184     2.379148\n"
     ]
    }
   ],
   "source": [
    "#Showing the descriptive Statistics \n",
    "print(df.describe())"
   ]
  },
  {
   "cell_type": "code",
   "execution_count": 5,
   "id": "561ef47c-f82e-49ab-b04f-12097de23c72",
   "metadata": {},
   "outputs": [
    {
     "data": {
      "text/html": [
       "<div>\n",
       "<style scoped>\n",
       "    .dataframe tbody tr th:only-of-type {\n",
       "        vertical-align: middle;\n",
       "    }\n",
       "\n",
       "    .dataframe tbody tr th {\n",
       "        vertical-align: top;\n",
       "    }\n",
       "\n",
       "    .dataframe thead th {\n",
       "        text-align: right;\n",
       "    }\n",
       "</style>\n",
       "<table border=\"1\" class=\"dataframe\">\n",
       "  <thead>\n",
       "    <tr style=\"text-align: right;\">\n",
       "      <th></th>\n",
       "      <th>review_date</th>\n",
       "      <th>handle</th>\n",
       "      <th>rating</th>\n",
       "      <th>helpfulness_rating</th>\n",
       "      <th>review</th>\n",
       "      <th>year</th>\n",
       "    </tr>\n",
       "  </thead>\n",
       "  <tbody>\n",
       "    <tr>\n",
       "      <th>0</th>\n",
       "      <td>2018-04-14</td>\n",
       "      <td>The Dolphin</td>\n",
       "      <td>2.0</td>\n",
       "      <td>513</td>\n",
       "      <td>Delightful coffee maker if you’re only looking...</td>\n",
       "      <td>2018</td>\n",
       "    </tr>\n",
       "    <tr>\n",
       "      <th>1</th>\n",
       "      <td>2019-02-07</td>\n",
       "      <td>Karen Kaffenberger</td>\n",
       "      <td>1.0</td>\n",
       "      <td>122</td>\n",
       "      <td>UPDATE: Bought this 10-21-18 and I finally ret...</td>\n",
       "      <td>2019</td>\n",
       "    </tr>\n",
       "    <tr>\n",
       "      <th>2</th>\n",
       "      <td>2017-12-23</td>\n",
       "      <td>C1C3C11</td>\n",
       "      <td>4.0</td>\n",
       "      <td>185</td>\n",
       "      <td>The big reason I ordered this was because I wa...</td>\n",
       "      <td>2017</td>\n",
       "    </tr>\n",
       "    <tr>\n",
       "      <th>3</th>\n",
       "      <td>2016-11-26</td>\n",
       "      <td>Paul Roberts</td>\n",
       "      <td>5.0</td>\n",
       "      <td>224</td>\n",
       "      <td>I've owned several of their older brewstation ...</td>\n",
       "      <td>2016</td>\n",
       "    </tr>\n",
       "    <tr>\n",
       "      <th>4</th>\n",
       "      <td>2017-11-28</td>\n",
       "      <td>JennyD</td>\n",
       "      <td>3.0</td>\n",
       "      <td>116</td>\n",
       "      <td>I agonized over which coffee maker to purchase...</td>\n",
       "      <td>2017</td>\n",
       "    </tr>\n",
       "  </tbody>\n",
       "</table>\n",
       "</div>"
      ],
      "text/plain": [
       "  review_date              handle  rating helpfulness_rating  \\\n",
       "0  2018-04-14         The Dolphin     2.0                513   \n",
       "1  2019-02-07  Karen Kaffenberger     1.0                122   \n",
       "2  2017-12-23             C1C3C11     4.0                185   \n",
       "3  2016-11-26        Paul Roberts     5.0                224   \n",
       "4  2017-11-28              JennyD     3.0                116   \n",
       "\n",
       "                                              review  year  \n",
       "0  Delightful coffee maker if you’re only looking...  2018  \n",
       "1  UPDATE: Bought this 10-21-18 and I finally ret...  2019  \n",
       "2  The big reason I ordered this was because I wa...  2017  \n",
       "3  I've owned several of their older brewstation ...  2016  \n",
       "4  I agonized over which coffee maker to purchase...  2017  "
      ]
     },
     "execution_count": 5,
     "metadata": {},
     "output_type": "execute_result"
    }
   ],
   "source": [
    "df.head()"
   ]
  },
  {
   "cell_type": "code",
   "execution_count": null,
   "id": "3189d132-6c14-4427-aeb8-5fa5261bd942",
   "metadata": {},
   "outputs": [],
   "source": []
  }
 ],
 "metadata": {
  "kernelspec": {
   "display_name": "Python 3 (ipykernel)",
   "language": "python",
   "name": "python3"
  },
  "language_info": {
   "codemirror_mode": {
    "name": "ipython",
    "version": 3
   },
   "file_extension": ".py",
   "mimetype": "text/x-python",
   "name": "python",
   "nbconvert_exporter": "python",
   "pygments_lexer": "ipython3",
   "version": "3.9.18"
  }
 },
 "nbformat": 4,
 "nbformat_minor": 5
}
