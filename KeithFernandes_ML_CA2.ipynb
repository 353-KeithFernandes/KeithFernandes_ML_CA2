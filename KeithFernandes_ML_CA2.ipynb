{
 "cells": [
  {
   "cell_type": "markdown",
   "id": "e1a54cbe-0afa-4b73-80bd-9dce14d2bb72",
   "metadata": {},
   "source": []
  },
  {
   "cell_type": "markdown",
   "id": "234d643e-d657-4db8-8aab-874497f59ec5",
   "metadata": {},
   "source": [
    "## Keith Cavalcante Fernandes 2020353\n",
    "Module Title(s): Machine Learning for AI <br>\n",
    "Assignment Type: Individual           Weighting(s): 50% <br>\n",
    "Assignment Title: ML_CA2              Lecturer(s): David McQuaid\n"
   ]
  },
  {
   "cell_type": "markdown",
   "id": "900ee146-675a-4450-9227-113073aec0eb",
   "metadata": {},
   "source": [
    "Github Link: https://github.com/353-KeithFernandes/KeithFernandes_ML_CA2.git "
   ]
  },
  {
   "cell_type": "markdown",
   "id": "a46db134-4dc6-4fbd-a6be-f9a95e9fe57b",
   "metadata": {},
   "source": [
    "### Sentiment Analysis on Bank Records"
   ]
  },
  {
   "cell_type": "markdown",
   "id": "f1fa2576-7911-458d-9cad-2a343bb70857",
   "metadata": {},
   "source": [
    "*Importing All Required Packages*"
   ]
  },
  {
   "cell_type": "code",
   "execution_count": 1,
   "id": "d1938e18-193d-49d8-a955-6ee7a2675980",
   "metadata": {},
   "outputs": [
    {
     "name": "stderr",
     "output_type": "stream",
     "text": [
      "[nltk_data] Downloading package stopwords to\n",
      "[nltk_data]     C:\\Users\\kcfke\\AppData\\Roaming\\nltk_data...\n",
      "[nltk_data]   Package stopwords is already up-to-date!\n"
     ]
    }
   ],
   "source": [
    "import pandas as pd\n",
    "import numpy as np\n",
    "import seaborn as sns\n",
    "import re\n",
    "import string\n",
    "from string import punctuation\n",
    "import nltk\n",
    "from nltk.corpus import stopwords\n",
    "nltk.download('stopwords')\n",
    "\n",
    "\n",
    "import matplotlib.pyplot as plt\n",
    "from sklearn.model_selection import train_test_split\n",
    "from sklearn.feature_extraction.text import CountVectorizer\n",
    "from sklearn.feature_extraction.text import TfidfTransformer\n",
    "\n",
    "import tensorflow as tf\n",
    "from tensorflow.keras.models import Sequential\n",
    "from tensorflow.keras.layers import Dense, Activation, Dropout\n",
    "from tensorflow.keras.callbacks import EarlyStopping"
   ]
  },
  {
   "cell_type": "markdown",
   "id": "92f56ad6-11dc-4f19-8fc4-90ea43e70b72",
   "metadata": {},
   "source": [
    "**Reading Data**"
   ]
  },
  {
   "cell_type": "markdown",
   "id": "0979f4d3-ce2f-40d5-ad69-5e273dc09991",
   "metadata": {},
   "source": [
    "https://www.kaggle.com/datasets/niramay/-coffeemakerclassification"
   ]
  },
  {
   "cell_type": "markdown",
   "id": "4e07de83-f398-4811-82a3-039b175cdb13",
   "metadata": {},
   "source": [
    "*Loading & Printing Head Dataset* "
   ]
  },
  {
   "cell_type": "code",
   "execution_count": 2,
   "id": "3fdb3ba1-ebe5-427b-814e-99996c68715c",
   "metadata": {},
   "outputs": [
    {
     "data": {
      "text/html": [
       "<div>\n",
       "<style scoped>\n",
       "    .dataframe tbody tr th:only-of-type {\n",
       "        vertical-align: middle;\n",
       "    }\n",
       "\n",
       "    .dataframe tbody tr th {\n",
       "        vertical-align: top;\n",
       "    }\n",
       "\n",
       "    .dataframe thead th {\n",
       "        text-align: right;\n",
       "    }\n",
       "</style>\n",
       "<table border=\"1\" class=\"dataframe\">\n",
       "  <thead>\n",
       "    <tr style=\"text-align: right;\">\n",
       "      <th></th>\n",
       "      <th>review_date</th>\n",
       "      <th>handle</th>\n",
       "      <th>rating</th>\n",
       "      <th>helpfulness_rating</th>\n",
       "      <th>review</th>\n",
       "    </tr>\n",
       "  </thead>\n",
       "  <tbody>\n",
       "    <tr>\n",
       "      <th>0</th>\n",
       "      <td>April 14, 2018</td>\n",
       "      <td>The Dolphin</td>\n",
       "      <td>2.0</td>\n",
       "      <td>513</td>\n",
       "      <td>Delightful coffee maker if you’re only looking...</td>\n",
       "    </tr>\n",
       "    <tr>\n",
       "      <th>1</th>\n",
       "      <td>February 7, 2019</td>\n",
       "      <td>Karen Kaffenberger</td>\n",
       "      <td>1.0</td>\n",
       "      <td>122</td>\n",
       "      <td>UPDATE: Bought this 10-21-18 and I finally ret...</td>\n",
       "    </tr>\n",
       "    <tr>\n",
       "      <th>2</th>\n",
       "      <td>December 23, 2017</td>\n",
       "      <td>C1C3C11</td>\n",
       "      <td>4.0</td>\n",
       "      <td>185</td>\n",
       "      <td>The big reason I ordered this was because I wa...</td>\n",
       "    </tr>\n",
       "    <tr>\n",
       "      <th>3</th>\n",
       "      <td>November 26, 2016</td>\n",
       "      <td>Paul Roberts</td>\n",
       "      <td>5.0</td>\n",
       "      <td>224</td>\n",
       "      <td>I've owned several of their older brewstation ...</td>\n",
       "    </tr>\n",
       "    <tr>\n",
       "      <th>4</th>\n",
       "      <td>November 28, 2017</td>\n",
       "      <td>JennyD</td>\n",
       "      <td>3.0</td>\n",
       "      <td>116</td>\n",
       "      <td>I agonized over which coffee maker to purchase...</td>\n",
       "    </tr>\n",
       "  </tbody>\n",
       "</table>\n",
       "</div>"
      ],
      "text/plain": [
       "         review_date              handle  rating helpfulness_rating  \\\n",
       "0     April 14, 2018         The Dolphin     2.0                513   \n",
       "1   February 7, 2019  Karen Kaffenberger     1.0                122   \n",
       "2  December 23, 2017             C1C3C11     4.0                185   \n",
       "3  November 26, 2016        Paul Roberts     5.0                224   \n",
       "4  November 28, 2017              JennyD     3.0                116   \n",
       "\n",
       "                                              review  \n",
       "0  Delightful coffee maker if you’re only looking...  \n",
       "1  UPDATE: Bought this 10-21-18 and I finally ret...  \n",
       "2  The big reason I ordered this was because I wa...  \n",
       "3  I've owned several of their older brewstation ...  \n",
       "4  I agonized over which coffee maker to purchase...  "
      ]
     },
     "execution_count": 2,
     "metadata": {},
     "output_type": "execute_result"
    }
   ],
   "source": [
    "df = pd.read_csv('coffee_maker.csv')\n",
    "df.head()"
   ]
  },
  {
   "cell_type": "markdown",
   "id": "913d673d-8f77-49e3-b952-178389f584ab",
   "metadata": {},
   "source": [
    "*Adding a separate column for Year*"
   ]
  },
  {
   "cell_type": "code",
   "execution_count": 3,
   "id": "80b2ea69-2313-463d-9cd7-87edfa6b9ba8",
   "metadata": {},
   "outputs": [
    {
     "name": "stdout",
     "output_type": "stream",
     "text": [
      "  review_date              handle  rating helpfulness_rating  \\\n",
      "0  2018-04-14         The Dolphin     2.0                513   \n",
      "1  2019-02-07  Karen Kaffenberger     1.0                122   \n",
      "2  2017-12-23             C1C3C11     4.0                185   \n",
      "3  2016-11-26        Paul Roberts     5.0                224   \n",
      "4  2017-11-28              JennyD     3.0                116   \n",
      "\n",
      "                                              review  year  \n",
      "0  Delightful coffee maker if you’re only looking...  2018  \n",
      "1  UPDATE: Bought this 10-21-18 and I finally ret...  2019  \n",
      "2  The big reason I ordered this was because I wa...  2017  \n",
      "3  I've owned several of their older brewstation ...  2016  \n",
      "4  I agonized over which coffee maker to purchase...  2017  \n"
     ]
    }
   ],
   "source": [
    "df['review_date'] = pd.to_datetime(df['review_date'])\n",
    "df['year'] = df['review_date'].dt.year\n",
    "print(df.head())"
   ]
  },
  {
   "cell_type": "code",
   "execution_count": 4,
   "id": "06e50758-beef-4c3d-80c0-c8206b6be2a0",
   "metadata": {},
   "outputs": [
    {
     "name": "stdout",
     "output_type": "stream",
     "text": [
      "                      review_date       rating         year\n",
      "count                        5000  5000.000000  5000.000000\n",
      "mean   2018-07-29 12:19:17.760000     3.509400  2018.112200\n",
      "min           2010-02-04 00:00:00     1.000000  2010.000000\n",
      "25%           2016-11-17 00:00:00     2.000000  2016.000000\n",
      "50%           2019-04-06 00:00:00     4.000000  2019.000000\n",
      "75%           2020-06-06 06:00:00     5.000000  2020.000000\n",
      "max           2021-07-18 00:00:00     5.000000  2021.000000\n",
      "std                           NaN     1.638184     2.379148\n"
     ]
    }
   ],
   "source": [
    "#Showing the descriptive Statistics \n",
    "print(df.describe())"
   ]
  },
  {
   "cell_type": "code",
   "execution_count": 5,
   "id": "561ef47c-f82e-49ab-b04f-12097de23c72",
   "metadata": {},
   "outputs": [
    {
     "data": {
      "text/html": [
       "<div>\n",
       "<style scoped>\n",
       "    .dataframe tbody tr th:only-of-type {\n",
       "        vertical-align: middle;\n",
       "    }\n",
       "\n",
       "    .dataframe tbody tr th {\n",
       "        vertical-align: top;\n",
       "    }\n",
       "\n",
       "    .dataframe thead th {\n",
       "        text-align: right;\n",
       "    }\n",
       "</style>\n",
       "<table border=\"1\" class=\"dataframe\">\n",
       "  <thead>\n",
       "    <tr style=\"text-align: right;\">\n",
       "      <th></th>\n",
       "      <th>review_date</th>\n",
       "      <th>handle</th>\n",
       "      <th>rating</th>\n",
       "      <th>helpfulness_rating</th>\n",
       "      <th>review</th>\n",
       "      <th>year</th>\n",
       "    </tr>\n",
       "  </thead>\n",
       "  <tbody>\n",
       "    <tr>\n",
       "      <th>0</th>\n",
       "      <td>2018-04-14</td>\n",
       "      <td>The Dolphin</td>\n",
       "      <td>2.0</td>\n",
       "      <td>513</td>\n",
       "      <td>Delightful coffee maker if you’re only looking...</td>\n",
       "      <td>2018</td>\n",
       "    </tr>\n",
       "    <tr>\n",
       "      <th>1</th>\n",
       "      <td>2019-02-07</td>\n",
       "      <td>Karen Kaffenberger</td>\n",
       "      <td>1.0</td>\n",
       "      <td>122</td>\n",
       "      <td>UPDATE: Bought this 10-21-18 and I finally ret...</td>\n",
       "      <td>2019</td>\n",
       "    </tr>\n",
       "    <tr>\n",
       "      <th>2</th>\n",
       "      <td>2017-12-23</td>\n",
       "      <td>C1C3C11</td>\n",
       "      <td>4.0</td>\n",
       "      <td>185</td>\n",
       "      <td>The big reason I ordered this was because I wa...</td>\n",
       "      <td>2017</td>\n",
       "    </tr>\n",
       "    <tr>\n",
       "      <th>3</th>\n",
       "      <td>2016-11-26</td>\n",
       "      <td>Paul Roberts</td>\n",
       "      <td>5.0</td>\n",
       "      <td>224</td>\n",
       "      <td>I've owned several of their older brewstation ...</td>\n",
       "      <td>2016</td>\n",
       "    </tr>\n",
       "    <tr>\n",
       "      <th>4</th>\n",
       "      <td>2017-11-28</td>\n",
       "      <td>JennyD</td>\n",
       "      <td>3.0</td>\n",
       "      <td>116</td>\n",
       "      <td>I agonized over which coffee maker to purchase...</td>\n",
       "      <td>2017</td>\n",
       "    </tr>\n",
       "  </tbody>\n",
       "</table>\n",
       "</div>"
      ],
      "text/plain": [
       "  review_date              handle  rating helpfulness_rating  \\\n",
       "0  2018-04-14         The Dolphin     2.0                513   \n",
       "1  2019-02-07  Karen Kaffenberger     1.0                122   \n",
       "2  2017-12-23             C1C3C11     4.0                185   \n",
       "3  2016-11-26        Paul Roberts     5.0                224   \n",
       "4  2017-11-28              JennyD     3.0                116   \n",
       "\n",
       "                                              review  year  \n",
       "0  Delightful coffee maker if you’re only looking...  2018  \n",
       "1  UPDATE: Bought this 10-21-18 and I finally ret...  2019  \n",
       "2  The big reason I ordered this was because I wa...  2017  \n",
       "3  I've owned several of their older brewstation ...  2016  \n",
       "4  I agonized over which coffee maker to purchase...  2017  "
      ]
     },
     "execution_count": 5,
     "metadata": {},
     "output_type": "execute_result"
    }
   ],
   "source": [
    "df.head()"
   ]
  },
  {
   "cell_type": "markdown",
   "id": "b61e144a-4914-4581-9128-6e539bc55f8c",
   "metadata": {},
   "source": [
    "*Dropping Columns*"
   ]
  },
  {
   "cell_type": "code",
   "execution_count": 6,
   "id": "e304bd86-83cb-467b-a313-39bb47578e71",
   "metadata": {},
   "outputs": [],
   "source": [
    "df = df.drop(['helpfulness_rating'], axis=1)\n",
    "df.dropna(inplace=True)"
   ]
  },
  {
   "cell_type": "markdown",
   "id": "596ed232-13fc-4ebf-bab7-61d86033957a",
   "metadata": {},
   "source": [
    "*Checking information to show column names, datatype, and show if there are Non-null and the memory usage of the Dataframe*"
   ]
  },
  {
   "cell_type": "code",
   "execution_count": 7,
   "id": "d04bef5a-0629-4661-9b6f-a73ee3b97654",
   "metadata": {},
   "outputs": [
    {
     "name": "stdout",
     "output_type": "stream",
     "text": [
      "<class 'pandas.core.frame.DataFrame'>\n",
      "Index: 4999 entries, 0 to 4999\n",
      "Data columns (total 5 columns):\n",
      " #   Column       Non-Null Count  Dtype         \n",
      "---  ------       --------------  -----         \n",
      " 0   review_date  4999 non-null   datetime64[ns]\n",
      " 1   handle       4999 non-null   object        \n",
      " 2   rating       4999 non-null   float64       \n",
      " 3   review       4999 non-null   object        \n",
      " 4   year         4999 non-null   int32         \n",
      "dtypes: datetime64[ns](1), float64(1), int32(1), object(2)\n",
      "memory usage: 214.8+ KB\n",
      "None\n"
     ]
    }
   ],
   "source": [
    "print(df.info()) "
   ]
  },
  {
   "cell_type": "markdown",
   "id": "a3f0baee-ea72-47ae-879c-60befb7bd931",
   "metadata": {},
   "source": [
    "**Using Box plot to check dates and Rating**"
   ]
  },
  {
   "cell_type": "code",
   "execution_count": 8,
   "id": "428ae9ab-1a7e-4c20-a701-f34a8630b6d7",
   "metadata": {},
   "outputs": [
    {
     "data": {
      "image/png": "[encoded data removed]",
      "text/plain": [
       "<Figure size 1200x800 with 1 Axes>"
      ]
     },
     "metadata": {},
     "output_type": "display_data"
    }
   ],
   "source": [
    "plt.figure(figsize=(12, 8))\n",
    "sns.boxplot(x='rating', y='year', data=df)\n",
    "plt.xlabel('Rating')\n",
    "plt.ylabel('Year')\n",
    "plt.title('Box plot of Rating vs Year')\n",
    "plt.grid(True)\n",
    "plt.show()"
   ]
  },
  {
   "cell_type": "markdown",
   "id": "6d7a6b77-8e80-4670-b350-af71f9a17f75",
   "metadata": {},
   "source": [
    "As We can see the ratings of all levels are usually concentrated in the most recent years, from around 2016 and 2020. Which may indicate an increase in reviews recently, or even a higher activity by the users. It is possible to see some outliers in earlier years compared to higher ratings.  Suggesting usually the older reviews were reviewed poorly. And there is a consistent median in 2018, and more users rating 1.0 around 2020."
   ]
  },
  {
   "cell_type": "markdown",
   "id": "d2458d4d-e311-4831-b4e9-59882cb674d8",
   "metadata": {},
   "source": [
    "*Removing duplicate rows*"
   ]
  },
  {
   "cell_type": "code",
   "execution_count": 9,
   "id": "caeae9a4-b90c-4791-8e39-4fe766c882bc",
   "metadata": {},
   "outputs": [],
   "source": [
    "df.drop_duplicates(inplace=True)"
   ]
  },
  {
   "cell_type": "markdown",
   "id": "57562009-0d23-4180-99b3-afaf40a3fe86",
   "metadata": {},
   "source": [
    "**Calculating Polarity**"
   ]
  },
  {
   "cell_type": "code",
   "execution_count": 10,
   "id": "c7ae87ef-cc56-4b88-8264-c9cf7f99fe0c",
   "metadata": {},
   "outputs": [],
   "source": [
    "df['Polarity_Rating'] = df['rating'].apply(lambda x: 'Positive' if x > 3 else('Neutral' if x == 3  else 'Negative'))"
   ]
  },
  {
   "cell_type": "code",
   "execution_count": 11,
   "id": "7b30bfd5-5964-478f-9eec-ae3cc4510481",
   "metadata": {},
   "outputs": [
    {
     "data": {
      "text/html": [
       "<div>\n",
       "<style scoped>\n",
       "    .dataframe tbody tr th:only-of-type {\n",
       "        vertical-align: middle;\n",
       "    }\n",
       "\n",
       "    .dataframe tbody tr th {\n",
       "        vertical-align: top;\n",
       "    }\n",
       "\n",
       "    .dataframe thead th {\n",
       "        text-align: right;\n",
       "    }\n",
       "</style>\n",
       "<table border=\"1\" class=\"dataframe\">\n",
       "  <thead>\n",
       "    <tr style=\"text-align: right;\">\n",
       "      <th></th>\n",
       "      <th>review_date</th>\n",
       "      <th>handle</th>\n",
       "      <th>rating</th>\n",
       "      <th>review</th>\n",
       "      <th>year</th>\n",
       "      <th>Polarity_Rating</th>\n",
       "    </tr>\n",
       "  </thead>\n",
       "  <tbody>\n",
       "    <tr>\n",
       "      <th>0</th>\n",
       "      <td>2018-04-14</td>\n",
       "      <td>The Dolphin</td>\n",
       "      <td>2.0</td>\n",
       "      <td>Delightful coffee maker if you’re only looking...</td>\n",
       "      <td>2018</td>\n",
       "      <td>Negative</td>\n",
       "    </tr>\n",
       "    <tr>\n",
       "      <th>1</th>\n",
       "      <td>2019-02-07</td>\n",
       "      <td>Karen Kaffenberger</td>\n",
       "      <td>1.0</td>\n",
       "      <td>UPDATE: Bought this 10-21-18 and I finally ret...</td>\n",
       "      <td>2019</td>\n",
       "      <td>Negative</td>\n",
       "    </tr>\n",
       "    <tr>\n",
       "      <th>2</th>\n",
       "      <td>2017-12-23</td>\n",
       "      <td>C1C3C11</td>\n",
       "      <td>4.0</td>\n",
       "      <td>The big reason I ordered this was because I wa...</td>\n",
       "      <td>2017</td>\n",
       "      <td>Positive</td>\n",
       "    </tr>\n",
       "    <tr>\n",
       "      <th>3</th>\n",
       "      <td>2016-11-26</td>\n",
       "      <td>Paul Roberts</td>\n",
       "      <td>5.0</td>\n",
       "      <td>I've owned several of their older brewstation ...</td>\n",
       "      <td>2016</td>\n",
       "      <td>Positive</td>\n",
       "    </tr>\n",
       "    <tr>\n",
       "      <th>4</th>\n",
       "      <td>2017-11-28</td>\n",
       "      <td>JennyD</td>\n",
       "      <td>3.0</td>\n",
       "      <td>I agonized over which coffee maker to purchase...</td>\n",
       "      <td>2017</td>\n",
       "      <td>Neutral</td>\n",
       "    </tr>\n",
       "  </tbody>\n",
       "</table>\n",
       "</div>"
      ],
      "text/plain": [
       "  review_date              handle  rating  \\\n",
       "0  2018-04-14         The Dolphin     2.0   \n",
       "1  2019-02-07  Karen Kaffenberger     1.0   \n",
       "2  2017-12-23             C1C3C11     4.0   \n",
       "3  2016-11-26        Paul Roberts     5.0   \n",
       "4  2017-11-28              JennyD     3.0   \n",
       "\n",
       "                                              review  year Polarity_Rating  \n",
       "0  Delightful coffee maker if you’re only looking...  2018        Negative  \n",
       "1  UPDATE: Bought this 10-21-18 and I finally ret...  2019        Negative  \n",
       "2  The big reason I ordered this was because I wa...  2017        Positive  \n",
       "3  I've owned several of their older brewstation ...  2016        Positive  \n",
       "4  I agonized over which coffee maker to purchase...  2017         Neutral  "
      ]
     },
     "execution_count": 11,
     "metadata": {},
     "output_type": "execute_result"
    }
   ],
   "source": [
    "df.head()"
   ]
  },
  {
   "cell_type": "markdown",
   "id": "23c61b82-d41e-4b2f-a2b5-e1003dd40248",
   "metadata": {},
   "source": [
    "**Ploting Rating Visualisation Graph**"
   ]
  },
  {
   "cell_type": "code",
   "execution_count": 14,
   "id": "ea36449f-a1e3-4371-b96a-6003b8b4de5d",
   "metadata": {},
   "outputs": [
    {
     "name": "stderr",
     "output_type": "stream",
     "text": [
      "C:\\Users\\kcfke\\AppData\\Local\\Temp\\ipykernel_17376\\984776944.py:2: FutureWarning: \n",
      "\n",
      "Passing `palette` without assigning `hue` is deprecated and will be removed in v0.14.0. Assign the `x` variable to `hue` and set `legend=False` for the same effect.\n",
      "\n",
      "  sns.countplot(x='rating',data=df, palette='winter')\n"
     ]
    },
    {
     "data": {
      "text/plain": [
       "<Axes: xlabel='rating', ylabel='count'>"
      ]
     },
     "execution_count": 14,
     "metadata": {},
     "output_type": "execute_result"
    },
    {
     "data": {
      "image/png": "[encoded data removed]",
      "text/plain": [
       "<Figure size 640x480 with 1 Axes>"
      ]
     },
     "metadata": {},
     "output_type": "display_data"
    }
   ],
   "source": [
    "sns.set_style('whitegrid')\n",
    "sns.countplot(x='rating',data=df, palette='winter')"
   ]
  },
  {
   "cell_type": "markdown",
   "id": "949cbf15-3db4-46af-bc1e-69d46795fa3c",
   "metadata": {},
   "source": [
    "Twice as many users gave a 1.0 compared to those who gave a 5.0, which, analysing the previous graph, it shows that lately the users are becoming dissatisfied with the choosen Coffee Maker."
   ]
  },
  {
   "cell_type": "markdown",
   "id": "bb4e9d74-4346-4fcb-a93f-c2c654187ca0",
   "metadata": {},
   "source": [
    "**Plotting Polarity Rating Count**"
   ]
  },
  {
   "cell_type": "code",
   "execution_count": 15,
   "id": "579174c0-be21-48a0-8532-0d8a01e8e38e",
   "metadata": {},
   "outputs": [
    {
     "name": "stderr",
     "output_type": "stream",
     "text": [
      "C:\\Users\\kcfke\\AppData\\Local\\Temp\\ipykernel_17376\\1376702.py:2: FutureWarning: \n",
      "\n",
      "Passing `palette` without assigning `hue` is deprecated and will be removed in v0.14.0. Assign the `x` variable to `hue` and set `legend=False` for the same effect.\n",
      "\n",
      "  sns.countplot(x='Polarity_Rating',data=df, palette='spring')\n"
     ]
    },
    {
     "data": {
      "text/plain": [
       "<Axes: xlabel='Polarity_Rating', ylabel='count'>"
      ]
     },
     "execution_count": 15,
     "metadata": {},
     "output_type": "execute_result"
    },
    {
     "data": {
      "image/png": "[encoded data removed]",
      "text/plain": [
       "<Figure size 640x480 with 1 Axes>"
      ]
     },
     "metadata": {},
     "output_type": "display_data"
    }
   ],
   "source": [
    "sns.set_style('whitegrid')\n",
    "sns.countplot(x='Polarity_Rating',data=df, palette='spring')"
   ]
  },
  {
   "cell_type": "markdown",
   "id": "599d7bfb-c2f7-4d54-b17a-f2cd741bf3ff",
   "metadata": {},
   "source": [
    "And here we can see that users are generally more inclined to express strong opinions even if negative, once this distribution shows the marjority reviews are positive, followed by the negative reviews, then a smaller proportion of neutral.\n",
    "If I was selling those Coffee makers, I would go through all negative feedbacks to check which area could be improved."
   ]
  },
  {
   "cell_type": "markdown",
   "id": "7e6aa3fa-fd6d-4569-9bdc-573ca0f649a9",
   "metadata": {},
   "source": [
    "**Data Preprocessing**"
   ]
  },
  {
   "cell_type": "code",
   "execution_count": 16,
   "id": "b5cf7e47-047c-4f01-823a-20b167ad1dae",
   "metadata": {},
   "outputs": [],
   "source": [
    "df_Positive = df[df['Polarity_Rating'] == 'Positive'][0:8000]\n",
    "df_Neutral = df[df['Polarity_Rating'] == 'Neutral']\n",
    "df_Negative = df[df['Polarity_Rating'] == 'Negative']"
   ]
  },
  {
   "cell_type": "markdown",
   "id": "0b08728d-c459-4147-b8e3-994ef794def1",
   "metadata": {},
   "source": [
    "**Sample negative and neutral polarity & Creating final dataframe**"
   ]
  },
  {
   "cell_type": "code",
   "execution_count": 17,
   "id": "3db1d2d9-4e21-4ac5-bf8c-09e8221dc20b",
   "metadata": {},
   "outputs": [],
   "source": [
    "df_Neutral_over = df_Neutral.sample(8000, replace=True)\n",
    "df_Negative_over = df_Negative.sample(8000, replace=True)\n",
    "df = pd.concat([df_Positive, df_Neutral_over, df_Negative_over], axis=0)"
   ]
  },
  {
   "cell_type": "markdown",
   "id": "f8f57aa2-9779-4315-a8e8-f285c9e29799",
   "metadata": {},
   "source": [
    "**Text Preprocessing**"
   ]
  },
  {
   "cell_type": "code",
   "execution_count": 19,
   "id": "11842134-c058-4d5f-b50a-6d76b8594b9c",
   "metadata": {},
   "outputs": [],
   "source": [
    "def get_text_processing(text):\n",
    "    stpword = stopwords.words('english')\n",
    "    no_punctuation = [char for char in text if char not in string.punctuation]\n",
    "    no_punctuation = ''.join(no_punctuation)\n",
    "    return ' '.join([word for word in no_punctuation.split() if word.lower() not in stpword])"
   ]
  },
  {
   "cell_type": "markdown",
   "id": "4673b12f-fcf8-4816-9db9-b0017d493fe0",
   "metadata": {},
   "source": [
    "**Appling the method \"get_text_processing\" into column review**"
   ]
  },
  {
   "cell_type": "code",
   "execution_count": 20,
   "id": "af8129d1-a99d-4743-bb08-26092dc60c83",
   "metadata": {},
   "outputs": [
    {
     "data": {
      "text/html": [
       "<div>\n",
       "<style scoped>\n",
       "    .dataframe tbody tr th:only-of-type {\n",
       "        vertical-align: middle;\n",
       "    }\n",
       "\n",
       "    .dataframe tbody tr th {\n",
       "        vertical-align: top;\n",
       "    }\n",
       "\n",
       "    .dataframe thead th {\n",
       "        text-align: right;\n",
       "    }\n",
       "</style>\n",
       "<table border=\"1\" class=\"dataframe\">\n",
       "  <thead>\n",
       "    <tr style=\"text-align: right;\">\n",
       "      <th></th>\n",
       "      <th>review_date</th>\n",
       "      <th>handle</th>\n",
       "      <th>rating</th>\n",
       "      <th>review</th>\n",
       "      <th>year</th>\n",
       "      <th>Polarity_Rating</th>\n",
       "    </tr>\n",
       "  </thead>\n",
       "  <tbody>\n",
       "    <tr>\n",
       "      <th>2</th>\n",
       "      <td>2017-12-23</td>\n",
       "      <td>C1C3C11</td>\n",
       "      <td>4.0</td>\n",
       "      <td>big reason ordered tired dealing coffee carafe...</td>\n",
       "      <td>2017</td>\n",
       "      <td>Positive</td>\n",
       "    </tr>\n",
       "    <tr>\n",
       "      <th>3</th>\n",
       "      <td>2016-11-26</td>\n",
       "      <td>Paul Roberts</td>\n",
       "      <td>5.0</td>\n",
       "      <td>Ive owned several older brewstation models las...</td>\n",
       "      <td>2016</td>\n",
       "      <td>Positive</td>\n",
       "    </tr>\n",
       "    <tr>\n",
       "      <th>6</th>\n",
       "      <td>2018-04-19</td>\n",
       "      <td>Kris K.</td>\n",
       "      <td>5.0</td>\n",
       "      <td>second Brewstation first one lasted 11 years e...</td>\n",
       "      <td>2018</td>\n",
       "      <td>Positive</td>\n",
       "    </tr>\n",
       "    <tr>\n",
       "      <th>10</th>\n",
       "      <td>2016-10-15</td>\n",
       "      <td>Brian Colon</td>\n",
       "      <td>5.0</td>\n",
       "      <td>Let start saying owned previous model Brew Sta...</td>\n",
       "      <td>2016</td>\n",
       "      <td>Positive</td>\n",
       "    </tr>\n",
       "    <tr>\n",
       "      <th>12</th>\n",
       "      <td>2018-07-25</td>\n",
       "      <td>L. L.</td>\n",
       "      <td>4.0</td>\n",
       "      <td>Ive purchased every brand 30 years like one be...</td>\n",
       "      <td>2018</td>\n",
       "      <td>Positive</td>\n",
       "    </tr>\n",
       "  </tbody>\n",
       "</table>\n",
       "</div>"
      ],
      "text/plain": [
       "   review_date        handle  rating  \\\n",
       "2   2017-12-23       C1C3C11     4.0   \n",
       "3   2016-11-26  Paul Roberts     5.0   \n",
       "6   2018-04-19       Kris K.     5.0   \n",
       "10  2016-10-15   Brian Colon     5.0   \n",
       "12  2018-07-25         L. L.     4.0   \n",
       "\n",
       "                                               review  year Polarity_Rating  \n",
       "2   big reason ordered tired dealing coffee carafe...  2017        Positive  \n",
       "3   Ive owned several older brewstation models las...  2016        Positive  \n",
       "6   second Brewstation first one lasted 11 years e...  2018        Positive  \n",
       "10  Let start saying owned previous model Brew Sta...  2016        Positive  \n",
       "12  Ive purchased every brand 30 years like one be...  2018        Positive  "
      ]
     },
     "execution_count": 20,
     "metadata": {},
     "output_type": "execute_result"
    }
   ],
   "source": [
    "df['review'] = df['review'].apply(get_text_processing)\n",
    "df.head()"
   ]
  },
  {
   "cell_type": "markdown",
   "id": "63858c7c-6697-4560-8fd8-cbeee6ef8654",
   "metadata": {},
   "source": [
    "**Visualising Text Review with Polarity Rating**"
   ]
  },
  {
   "cell_type": "code",
   "execution_count": 21,
   "id": "aed43d92-a9de-461a-83af-67d399150013",
   "metadata": {},
   "outputs": [
    {
     "data": {
      "text/html": [
       "<div>\n",
       "<style scoped>\n",
       "    .dataframe tbody tr th:only-of-type {\n",
       "        vertical-align: middle;\n",
       "    }\n",
       "\n",
       "    .dataframe tbody tr th {\n",
       "        vertical-align: top;\n",
       "    }\n",
       "\n",
       "    .dataframe thead th {\n",
       "        text-align: right;\n",
       "    }\n",
       "</style>\n",
       "<table border=\"1\" class=\"dataframe\">\n",
       "  <thead>\n",
       "    <tr style=\"text-align: right;\">\n",
       "      <th></th>\n",
       "      <th>review</th>\n",
       "      <th>Polarity_Rating</th>\n",
       "    </tr>\n",
       "  </thead>\n",
       "  <tbody>\n",
       "    <tr>\n",
       "      <th>2</th>\n",
       "      <td>big reason ordered tired dealing coffee carafe...</td>\n",
       "      <td>Positive</td>\n",
       "    </tr>\n",
       "    <tr>\n",
       "      <th>3</th>\n",
       "      <td>Ive owned several older brewstation models las...</td>\n",
       "      <td>Positive</td>\n",
       "    </tr>\n",
       "    <tr>\n",
       "      <th>6</th>\n",
       "      <td>second Brewstation first one lasted 11 years e...</td>\n",
       "      <td>Positive</td>\n",
       "    </tr>\n",
       "    <tr>\n",
       "      <th>10</th>\n",
       "      <td>Let start saying owned previous model Brew Sta...</td>\n",
       "      <td>Positive</td>\n",
       "    </tr>\n",
       "    <tr>\n",
       "      <th>12</th>\n",
       "      <td>Ive purchased every brand 30 years like one be...</td>\n",
       "      <td>Positive</td>\n",
       "    </tr>\n",
       "  </tbody>\n",
       "</table>\n",
       "</div>"
      ],
      "text/plain": [
       "                                               review Polarity_Rating\n",
       "2   big reason ordered tired dealing coffee carafe...        Positive\n",
       "3   Ive owned several older brewstation models las...        Positive\n",
       "6   second Brewstation first one lasted 11 years e...        Positive\n",
       "10  Let start saying owned previous model Brew Sta...        Positive\n",
       "12  Ive purchased every brand 30 years like one be...        Positive"
      ]
     },
     "execution_count": 21,
     "metadata": {},
     "output_type": "execute_result"
    }
   ],
   "source": [
    "df = df[['review', 'Polarity_Rating']]\n",
    "df.head()"
   ]
  },
  {
   "cell_type": "code",
   "execution_count": 22,
   "id": "5aafb1e0-2d79-4f67-8044-2ce81c7cd171",
   "metadata": {},
   "outputs": [
    {
     "data": {
      "text/plain": [
       "(18935, 2)"
      ]
     },
     "execution_count": 22,
     "metadata": {},
     "output_type": "execute_result"
    }
   ],
   "source": [
    "df.shape"
   ]
  },
  {
   "cell_type": "markdown",
   "id": "7924054c-2176-48e0-b86c-c74e287c7df3",
   "metadata": {},
   "source": [
    "Apply One hot encoding on negative, neutral, and positive"
   ]
  },
  {
   "cell_type": "code",
   "execution_count": 23,
   "id": "98b4bded-424d-4b37-a500-2cd379d74400",
   "metadata": {},
   "outputs": [
    {
     "data": {
      "text/html": [
       "<div>\n",
       "<style scoped>\n",
       "    .dataframe tbody tr th:only-of-type {\n",
       "        vertical-align: middle;\n",
       "    }\n",
       "\n",
       "    .dataframe tbody tr th {\n",
       "        vertical-align: top;\n",
       "    }\n",
       "\n",
       "    .dataframe thead th {\n",
       "        text-align: right;\n",
       "    }\n",
       "</style>\n",
       "<table border=\"1\" class=\"dataframe\">\n",
       "  <thead>\n",
       "    <tr style=\"text-align: right;\">\n",
       "      <th></th>\n",
       "      <th>review</th>\n",
       "      <th>Negative</th>\n",
       "      <th>Neutral</th>\n",
       "      <th>Positive</th>\n",
       "    </tr>\n",
       "  </thead>\n",
       "  <tbody>\n",
       "    <tr>\n",
       "      <th>2</th>\n",
       "      <td>big reason ordered tired dealing coffee carafe...</td>\n",
       "      <td>False</td>\n",
       "      <td>False</td>\n",
       "      <td>True</td>\n",
       "    </tr>\n",
       "    <tr>\n",
       "      <th>3</th>\n",
       "      <td>Ive owned several older brewstation models las...</td>\n",
       "      <td>False</td>\n",
       "      <td>False</td>\n",
       "      <td>True</td>\n",
       "    </tr>\n",
       "    <tr>\n",
       "      <th>6</th>\n",
       "      <td>second Brewstation first one lasted 11 years e...</td>\n",
       "      <td>False</td>\n",
       "      <td>False</td>\n",
       "      <td>True</td>\n",
       "    </tr>\n",
       "    <tr>\n",
       "      <th>10</th>\n",
       "      <td>Let start saying owned previous model Brew Sta...</td>\n",
       "      <td>False</td>\n",
       "      <td>False</td>\n",
       "      <td>True</td>\n",
       "    </tr>\n",
       "    <tr>\n",
       "      <th>12</th>\n",
       "      <td>Ive purchased every brand 30 years like one be...</td>\n",
       "      <td>False</td>\n",
       "      <td>False</td>\n",
       "      <td>True</td>\n",
       "    </tr>\n",
       "  </tbody>\n",
       "</table>\n",
       "</div>"
      ],
      "text/plain": [
       "                                               review  Negative  Neutral  \\\n",
       "2   big reason ordered tired dealing coffee carafe...     False    False   \n",
       "3   Ive owned several older brewstation models las...     False    False   \n",
       "6   second Brewstation first one lasted 11 years e...     False    False   \n",
       "10  Let start saying owned previous model Brew Sta...     False    False   \n",
       "12  Ive purchased every brand 30 years like one be...     False    False   \n",
       "\n",
       "    Positive  \n",
       "2       True  \n",
       "3       True  \n",
       "6       True  \n",
       "10      True  \n",
       "12      True  "
      ]
     },
     "execution_count": 23,
     "metadata": {},
     "output_type": "execute_result"
    }
   ],
   "source": [
    "one_hot = pd.get_dummies(df[\"Polarity_Rating\"])\n",
    "df.drop(['Polarity_Rating'],axis=1,inplace=True)\n",
    "df = pd.concat([df,one_hot],axis=1)\n",
    "df.head()"
   ]
  },
  {
   "cell_type": "markdown",
   "id": "f1e85869-f75c-4d87-b4bc-97adbce68790",
   "metadata": {},
   "source": [
    "**Appling Train Test Split**"
   ]
  },
  {
   "cell_type": "code",
   "execution_count": 25,
   "id": "90144948-a628-40de-9830-f06bf19b7ce5",
   "metadata": {},
   "outputs": [],
   "source": [
    "X = df['review'].values\n",
    "y = df.drop('review', axis=1).values\n",
    "X_train, X_test, y_train, y_test = train_test_split(X, y, test_size=0.30, random_state=123)"
   ]
  },
  {
   "cell_type": "markdown",
   "id": "70460467-60c2-4893-9302-77a809d6bd84",
   "metadata": {},
   "source": [
    "**Appling vectorization**"
   ]
  },
  {
   "cell_type": "code",
   "execution_count": 26,
   "id": "8320a5d6-1f3f-4c05-9952-08d9f07e274f",
   "metadata": {},
   "outputs": [],
   "source": [
    "vect = CountVectorizer()\n",
    "X_train = vect.fit_transform(X_train)\n",
    "X_test = vect.transform(X_test)"
   ]
  },
  {
   "cell_type": "markdown",
   "id": "d5c10ba9-8f63-49e8-8609-440ed65b5f31",
   "metadata": {},
   "source": [
    "**Appling frequency, inverse document frequency:**"
   ]
  },
  {
   "cell_type": "code",
   "execution_count": 27,
   "id": "23e95945-6516-41cc-a15c-5020f4adfbed",
   "metadata": {},
   "outputs": [],
   "source": [
    "tfidf = TfidfTransformer()\n",
    "X_train = tfidf.fit_transform(X_train)\n",
    "X_test = tfidf.transform(X_test)\n",
    "X_train = X_train.toarray()\n",
    "X_test = X_test.toarray()"
   ]
  },
  {
   "cell_type": "markdown",
   "id": "130851b2-0c6e-4463-bd05-0c78426809e7",
   "metadata": {},
   "source": [
    "**Adding different layers**"
   ]
  },
  {
   "cell_type": "code",
   "execution_count": 28,
   "id": "709ea7e6-d088-492d-975e-172f70ddb630",
   "metadata": {},
   "outputs": [],
   "source": [
    "model = Sequential()\n",
    "\n",
    "model.add(Dense(units=12673,activation='relu'))\n",
    "model.add(Dropout(0.5))\n",
    "\n",
    "model.add(Dense(units=4000,activation='relu'))\n",
    "model.add(Dropout(0.5))\n",
    "\n",
    "model.add(Dense(units=500,activation='relu'))\n",
    "model.add(Dropout(0.5))\n",
    "\n",
    "model.add(Dense(units=3, activation='softmax'))\n",
    "\n",
    "opt=tf.keras.optimizers.Adam(learning_rate=0.001)\n",
    "model.compile(loss='categorical_crossentropy', optimizer=opt, metrics=['accuracy'])\n",
    "\n",
    "early_stop = EarlyStopping(monitor='val_loss', mode='min', verbose=1, patience=2)"
   ]
  },
  {
   "cell_type": "markdown",
   "id": "b97fb1ac-b5aa-4efc-8900-6c784ae1ad1a",
   "metadata": {},
   "source": [
    "**Fitting the Model**"
   ]
  },
  {
   "cell_type": "code",
   "execution_count": 29,
   "id": "c03daf86-5984-4d48-9904-2866be6e4ee9",
   "metadata": {},
   "outputs": [
    {
     "name": "stdout",
     "output_type": "stream",
     "text": [
      "Epoch 1/100\n",
      "\u001b[1m52/52\u001b[0m \u001b[32m━━━━━━━━━━━━━━━━━━━━\u001b[0m\u001b[37m\u001b[0m \u001b[1m216s\u001b[0m 4s/step - accuracy: 0.6703 - loss: 0.6658 - val_accuracy: 0.9806 - val_loss: 0.0660\n",
      "Epoch 2/100\n",
      "\u001b[1m52/52\u001b[0m \u001b[32m━━━━━━━━━━━━━━━━━━━━\u001b[0m\u001b[37m\u001b[0m \u001b[1m157s\u001b[0m 3s/step - accuracy: 0.9921 - loss: 0.0311 - val_accuracy: 0.9857 - val_loss: 0.0526\n",
      "Epoch 3/100\n",
      "\u001b[1m52/52\u001b[0m \u001b[32m━━━━━━━━━━━━━━━━━━━━\u001b[0m\u001b[37m\u001b[0m \u001b[1m158s\u001b[0m 3s/step - accuracy: 0.9979 - loss: 0.0075 - val_accuracy: 0.9864 - val_loss: 0.0522\n",
      "Epoch 4/100\n",
      "\u001b[1m52/52\u001b[0m \u001b[32m━━━━━━━━━━━━━━━━━━━━\u001b[0m\u001b[37m\u001b[0m \u001b[1m148s\u001b[0m 3s/step - accuracy: 0.9982 - loss: 0.0055 - val_accuracy: 0.9882 - val_loss: 0.0517\n",
      "Epoch 5/100\n",
      "\u001b[1m52/52\u001b[0m \u001b[32m━━━━━━━━━━━━━━━━━━━━\u001b[0m\u001b[37m\u001b[0m \u001b[1m153s\u001b[0m 3s/step - accuracy: 0.9988 - loss: 0.0029 - val_accuracy: 0.9842 - val_loss: 0.0731\n",
      "Epoch 6/100\n",
      "\u001b[1m52/52\u001b[0m \u001b[32m━━━━━━━━━━━━━━━━━━━━\u001b[0m\u001b[37m\u001b[0m \u001b[1m150s\u001b[0m 3s/step - accuracy: 0.9980 - loss: 0.0039 - val_accuracy: 0.9817 - val_loss: 0.0938\n",
      "Epoch 6: early stopping\n"
     ]
    },
    {
     "data": {
      "text/plain": [
       "<keras.src.callbacks.history.History at 0x131e818be50>"
      ]
     },
     "execution_count": 29,
     "metadata": {},
     "output_type": "execute_result"
    }
   ],
   "source": [
    "model.fit(x=X_train, y=y_train, batch_size=256, epochs=100, validation_data=(X_test, y_test), verbose=1, callbacks=early_stop)"
   ]
  },
  {
   "cell_type": "markdown",
   "id": "8dece1e5-32e4-40f7-a368-c3182962ee01",
   "metadata": {},
   "source": [
    "**Evaluating of Model**"
   ]
  },
  {
   "cell_type": "code",
   "execution_count": 32,
   "id": "31a45e66-9634-4ed8-9111-d68c2dc2b21f",
   "metadata": {},
   "outputs": [
    {
     "name": "stdout",
     "output_type": "stream",
     "text": [
      "\u001b[1m89/89\u001b[0m \u001b[32m━━━━━━━━━━━━━━━━━━━━\u001b[0m\u001b[37m\u001b[0m \u001b[1m13s\u001b[0m 147ms/step - accuracy: 0.9834 - loss: 0.0815\n",
      "Test accuracy: 0.9816933870315552\n"
     ]
    }
   ],
   "source": [
    "model_score = model.evaluate(X_test, y_test, batch_size=64, verbose=1)\n",
    "print('Test accuracy:', model_score[1])"
   ]
  },
  {
   "cell_type": "markdown",
   "id": "ee34007d-93ff-4412-82e9-d51a44f26dd5",
   "metadata": {},
   "source": [
    "**Prediction**"
   ]
  },
  {
   "cell_type": "code",
   "execution_count": 33,
   "id": "d9c2d9c7-89d7-48e5-a0bc-e050af373585",
   "metadata": {},
   "outputs": [
    {
     "name": "stdout",
     "output_type": "stream",
     "text": [
      "\u001b[1m178/178\u001b[0m \u001b[32m━━━━━━━━━━━━━━━━━━━━\u001b[0m\u001b[37m\u001b[0m \u001b[1m20s\u001b[0m 111ms/step\n"
     ]
    },
    {
     "data": {
      "text/plain": [
       "array([[4.2056356e-05, 1.7224898e-05, 9.9994063e-01],\n",
       "       [1.3320416e-06, 9.9998891e-01, 9.7000238e-06],\n",
       "       [6.8526464e-07, 5.8057628e-07, 9.9999869e-01],\n",
       "       ...,\n",
       "       [9.9999940e-01, 2.8143720e-07, 4.1429072e-07],\n",
       "       [7.3260691e-09, 1.0000000e+00, 1.2956295e-08],\n",
       "       [2.0273203e-06, 2.3332489e-06, 9.9999559e-01]], dtype=float32)"
      ]
     },
     "execution_count": 33,
     "metadata": {},
     "output_type": "execute_result"
    }
   ],
   "source": [
    "preds = model.predict(X_test)\n",
    "preds"
   ]
  },
  {
   "cell_type": "code",
   "execution_count": 34,
   "id": "d7468bbf-3225-4fc5-9c0a-c2acf7b2a941",
   "metadata": {},
   "outputs": [
    {
     "data": {
      "text/plain": [
       "(5681, 3)"
      ]
     },
     "execution_count": 34,
     "metadata": {},
     "output_type": "execute_result"
    }
   ],
   "source": [
    "preds.shape"
   ]
  },
  {
   "cell_type": "code",
   "execution_count": null,
   "id": "36309cdf-d5d7-4c48-99a4-e2465a5fb53d",
   "metadata": {},
   "outputs": [],
   "source": []
  }
 ],
 "metadata": {
  "kernelspec": {
   "display_name": "Python 3 (ipykernel)",
   "language": "python",
   "name": "python3"
  },
  "language_info": {
   "codemirror_mode": {
    "name": "ipython",
    "version": 3
   },
   "file_extension": ".py",
   "mimetype": "text/x-python",
   "name": "python",
   "nbconvert_exporter": "python",
   "pygments_lexer": "ipython3",
   "version": "3.9.18"
  }
 },
 "nbformat": 4,
 "nbformat_minor": 5
}
